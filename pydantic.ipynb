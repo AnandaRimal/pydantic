{
 "cells": [
  {
   "cell_type": "markdown",
   "id": "4a8db280-c532-42ca-bff3-1d359cea7ecb",
   "metadata": {},
   "source": [
    "## offcial documentation\n",
    "https://docs.pydantic.dev/latest/"
   ]
  },
  {
   "cell_type": "markdown",
   "id": "cc52bf61-c833-4239-b003-fd2c4415e649",
   "metadata": {},
   "source": [
    "1️⃣ What is Pydantic?\n",
    "\n",
    "Pydantic is a data validation and settings management library using Python type annotations.\n",
    "It helps you:\n",
    "\n",
    "Validate data automatically\n",
    "\n",
    "Convert data to proper types\n",
    "\n",
    "Handle nested structures\n",
    "\n",
    "Easily parse JSON and dicts\n",
    "\n",
    "Add custom validation\n",
    "\n",
    "Think of it as a way to ensure your data is clean and structured before using it in your app."
   ]
  },
  {
   "cell_type": "code",
   "execution_count": 2,
   "id": "302798cd-c038-46ed-ba28-aa33481bc862",
   "metadata": {},
   "outputs": [
    {
     "name": "stdout",
     "output_type": "stream",
     "text": [
      "id=1 name='Ananda' age=22\n"
     ]
    }
   ],
   "source": [
    "# Install Pydantic if you haven't\n",
    "# !pip install pydantic\n",
    "\n",
    "from pydantic import BaseModel\n",
    "\n",
    "# Define a simple model\n",
    "class User(BaseModel):\n",
    "    id: int\n",
    "    name: str\n",
    "    age: int\n",
    "\n",
    "# Create a user instance\n",
    "user = User(id=1, name=\"Ananda\", age=22)\n",
    "\n",
    "print(user)\n"
   ]
  },
  {
   "cell_type": "code",
   "execution_count": 3,
   "id": "f4823f49-5559-4a0f-af5f-3aec5de6c4b8",
   "metadata": {},
   "outputs": [
    {
     "ename": "SyntaxError",
     "evalue": "expected 'else' after 'if' expression (2807246998.py, line 1)",
     "output_type": "error",
     "traceback": [
      "\u001b[1;36m  Cell \u001b[1;32mIn[3], line 1\u001b[1;36m\u001b[0m\n\u001b[1;33m    we get problems if name conatains int\u001b[0m\n\u001b[1;37m           ^\u001b[0m\n\u001b[1;31mSyntaxError\u001b[0m\u001b[1;31m:\u001b[0m expected 'else' after 'if' expression\n"
     ]
    }
   ],
   "source": [
    "we get problems if name conatains int \n",
    "\n",
    "from pydantic import BaseModel\n",
    "\n",
    "# Define a simple model\n",
    "class User(BaseModel):\n",
    "    id: int\n",
    "    name: str\n",
    "    age: int\n",
    "\n",
    "# Create a user instance\n",
    "user = User(id=1, name=22, age=22)\n",
    "\n",
    "print(user)\n",
    "\n",
    "#BaseModel is the core class you inherit from.\n",
    "\n",
    "#Type hints are mandatory (int, str, etc.)\n"
   ]
  },
  {
   "cell_type": "markdown",
   "id": "dfb65d54-e53b-4d63-9287-f7256fa15358",
   "metadata": {},
   "source": [
    "## whole exampple\n",
    "from pydantic import BaseModel, ValidationError\n",
    "\n",
    "# Step 1: Define a Pydantic model\n",
    "class User(BaseModel):\n",
    "    name: str\n",
    "    age: int\n",
    "    email: str\n",
    "\n",
    "# Step 2: Function to create and validate user data\n",
    "def create_user(data: dict) -> User | None:\n",
    "    # Pydantic automatically validates data\n",
    "    result = User.model_validate(data)  # if invalid, it raises ValidationError\n",
    "    return result\n",
    "\n",
    "# Step 3: Valid data\n",
    "data1 = {\"name\": \"Ananda\", \"age\": 22, \"email\": \"ananda@example.com\"}\n",
    "user = create_user(data1)\n",
    "print(user)\n",
    "\n",
    "# Step 4: Invalid data (this will raise ValidationError automatically)\n",
    "data2 = {\"name\": \"Ram\", \"age\": \"twenty\", \"email\": \"ram@example.com\"}\n",
    "user2 = create_user(data2)\n",
    "print(user2)"
   ]
  },
  {
   "cell_type": "markdown",
   "id": "9f94616c-5c5b-450c-b2ec-e079668ad711",
   "metadata": {},
   "source": [
    "## 4️⃣ Field Customization\n",
    "\n",
    "You can use Field to add default values, descriptions, and constraints:"
   ]
  },
  {
   "cell_type": "code",
   "execution_count": 4,
   "id": "88a38d05-ef38-4124-9ac3-c13a1f071a03",
   "metadata": {},
   "outputs": [
    {
     "name": "stdout",
     "output_type": "stream",
     "text": [
      "name='Laptop' price=1500.0 in_stock=True\n"
     ]
    }
   ],
   "source": [
    "from pydantic import Field\n",
    "\n",
    "class Product(BaseModel):\n",
    "    name: str\n",
    "    price: float = Field(..., gt=0, description=\"Price must be greater than 0\")\n",
    "    in_stock: bool = True\n",
    "\n",
    "product = Product(name=\"Laptop\", price=1500)\n",
    "print(product)\n"
   ]
  },
  {
   "cell_type": "markdown",
   "id": "e96f4829-ddaa-4956-8150-db776e2546e7",
   "metadata": {},
   "source": [
    "## 5️⃣ Validators\n",
    "\n",
    "Use @validator to add custom validation logic:"
   ]
  },
  {
   "cell_type": "code",
   "execution_count": 5,
   "id": "10ba8e63-989e-4a22-95ce-1cc49dd7fcbe",
   "metadata": {},
   "outputs": [
    {
     "name": "stdout",
     "output_type": "stream",
     "text": [
      "id=2 name='Bob' age=20\n"
     ]
    },
    {
     "name": "stderr",
     "output_type": "stream",
     "text": [
      "C:\\Users\\anand\\AppData\\Local\\Temp\\ipykernel_24640\\574131961.py:8: PydanticDeprecatedSince20: Pydantic V1 style `@validator` validators are deprecated. You should migrate to Pydantic V2 style `@field_validator` validators, see the migration guide for more details. Deprecated in Pydantic V2.0 to be removed in V3.0. See Pydantic V2 Migration Guide at https://errors.pydantic.dev/2.10/migration/\n",
      "  @validator('age')\n"
     ]
    }
   ],
   "source": [
    "from pydantic import validator\n",
    "\n",
    "class UserWithValidator(BaseModel):\n",
    "    id: int\n",
    "    name: str\n",
    "    age: int\n",
    "\n",
    "    @validator('age')\n",
    "    def check_age(cls, v):\n",
    "        if v < 18:\n",
    "            raise ValueError('Age must be at least 18')\n",
    "        return v\n",
    "\n",
    "# user = UserWithValidator(id=2, name=\"Bob\", age=15)  # This will raise error\n",
    "user = UserWithValidator(id=2, name=\"Bob\", age=20)\n",
    "print(user)\n"
   ]
  },
  {
   "cell_type": "markdown",
   "id": "7a100d3e-dd4d-48fd-9068-59e0daac8426",
   "metadata": {},
   "source": [
    " ## 6️⃣ Nested Models\n",
    "\n",
    "Models can include other models:"
   ]
  },
  {
   "cell_type": "code",
   "execution_count": 7,
   "id": "276bd694-ed1d-4470-a95d-a58004e3275c",
   "metadata": {},
   "outputs": [
    {
     "name": "stdout",
     "output_type": "stream",
     "text": [
      "name='Ananda' age=22 address=Address(city='Kathmandu', country='Nepal')\n",
      "{\"name\":\"Ananda\",\"age\":22,\"address\":{\"city\":\"Kathmandu\",\"country\":\"Nepal\"}}\n"
     ]
    },
    {
     "name": "stderr",
     "output_type": "stream",
     "text": [
      "C:\\Users\\anand\\AppData\\Local\\Temp\\ipykernel_24640\\3474692753.py:13: PydanticDeprecatedSince20: The `json` method is deprecated; use `model_dump_json` instead. Deprecated in Pydantic V2.0 to be removed in V3.0. See Pydantic V2 Migration Guide at https://errors.pydantic.dev/2.10/migration/\n",
      "  print(person.json())  # nested JSON\n"
     ]
    }
   ],
   "source": [
    "class Address(BaseModel):\n",
    "    city: str\n",
    "    country: str\n",
    "\n",
    "class Person(BaseModel):\n",
    "    name: str\n",
    "    age: int\n",
    "    address: Address\n",
    "\n",
    "addr = Address(city=\"Kathmandu\", country=\"Nepal\")\n",
    "person = Person(name=\"Ananda\", age=22, address=addr)\n",
    "print(person)\n",
    "print(person.json())  # nested JSON\n"
   ]
  },
  {
   "cell_type": "markdown",
   "id": "ed637aeb-c591-4178-8f33-5ea0348e5406",
   "metadata": {},
   "source": [
    "1️⃣ Optional Fields"
   ]
  },
  {
   "cell_type": "code",
   "execution_count": 8,
   "id": "32cf0db7-2a02-449e-99fb-a5296ee9274a",
   "metadata": {},
   "outputs": [
    {
     "name": "stdout",
     "output_type": "stream",
     "text": [
      "title='Python 101' author='Ananda' pages=None\n"
     ]
    }
   ],
   "source": [
    "from typing import Optional\n",
    "from pydantic import BaseModel\n",
    "\n",
    "class Book(BaseModel):\n",
    "    title: str\n",
    "    author: str\n",
    "    pages: Optional[int] = None\n",
    "\n",
    "book = Book(title=\"Python 101\", author=\"Ananda\")\n",
    "print(book)\n"
   ]
  },
  {
   "cell_type": "markdown",
   "id": "278599b3-55a1-40d3-847a-48807784ffbc",
   "metadata": {},
   "source": [
    "✅ Explanation:\n",
    "\n",
    "Optional[int] means the field pages may or may not be provided.\n",
    "\n",
    "If it is not given, it defaults to None.\n",
    "\n",
    "This is useful when some fields are not always required."
   ]
  },
  {
   "cell_type": "markdown",
   "id": "1a5561fd-3703-4fda-a7c6-173152f36e49",
   "metadata": {},
   "source": [
    "2️⃣ List Fields"
   ]
  },
  {
   "cell_type": "code",
   "execution_count": 9,
   "id": "af5daace-257e-4a8f-b50c-ad29635efcd8",
   "metadata": {},
   "outputs": [
    {
     "name": "stdout",
     "output_type": "stream",
     "text": [
      "books=[Book(title='Python 101', author='Ananda', pages=None)]\n"
     ]
    }
   ],
   "source": [
    "from typing import List\n",
    "from pydantic import BaseModel\n",
    "\n",
    "class Library(BaseModel):\n",
    "    books: List[Book]\n",
    "\n",
    "lib = Library(books=[book])\n",
    "print(lib)\n"
   ]
  },
  {
   "cell_type": "markdown",
   "id": "696b3a11-7dc3-42cf-8b40-72e58bfa67c5",
   "metadata": {},
   "source": [
    "✅ Explanation:\n",
    "\n",
    "You can have fields that are lists of other Pydantic models or primitives.\n",
    "\n",
    "List[Book] ensures every item in the list is a Book instance.\n",
    "\n",
    "Pydantic will validate each element automatically."
   ]
  }
 ],
 "metadata": {
  "kernelspec": {
   "display_name": "Python 3 (ipykernel)",
   "language": "python",
   "name": "python3"
  },
  "language_info": {
   "codemirror_mode": {
    "name": "ipython",
    "version": 3
   },
   "file_extension": ".py",
   "mimetype": "text/x-python",
   "name": "python",
   "nbconvert_exporter": "python",
   "pygments_lexer": "ipython3",
   "version": "3.13.5"
  }
 },
 "nbformat": 4,
 "nbformat_minor": 5
}
